{
 "cells": [
  {
   "cell_type": "markdown",
   "id": "f56c8af5",
   "metadata": {},
   "source": [
    "# MJX Humanoid Training (Minimal)\n",
    "\n",
    "- 목적: `models/humanoid.xml`로 MJX FoPG(APG) 최소 예제 학습\n",
    "- 원칙: mjx만 사용, 핵심만 간결히 구현 (Brax 미사용)\n"
   ]
  },
  {
   "cell_type": "code",
   "execution_count": 2,
   "id": "648f16c8",
   "metadata": {},
   "outputs": [
    {
     "name": "stdout",
     "output_type": "stream",
     "text": [
      "Failed to import warp: No module named 'warp'\n",
      "Failed to import mujoco.mjx.third_party.mujoco_warp as mujoco_warp: No module named 'warp'\n"
     ]
    }
   ],
   "source": [
    "# Setup: imports, JAX precision\n",
    "import os\n",
    "os.environ[\"XLA_PYTHON_CLIENT_MEM_FRACTION\"] = \"0.8\"\n",
    "\n",
    "import jax\n",
    "import jax.numpy as jnp\n",
    "from jax import random, jit, value_and_grad\n",
    "from jax import config as jax_config\n",
    "jax_config.update(\"jax_enable_x64\", True)\n",
    "jax_config.update(\"jax_default_matmul_precision\", \"high\")\n",
    "\n",
    "import numpy as np\n",
    "import mujoco\n",
    "import mujoco.mjx as mjx\n",
    "\n",
    "XML_PATH = \"models/humanoid.xml\"\n"
   ]
  },
  {
   "cell_type": "code",
   "execution_count": 3,
   "id": "b8cde36f",
   "metadata": {},
   "outputs": [
    {
     "ename": "NotImplementedError",
     "evalue": "[<mjtSensor.mjSENS_JOINTLIMITFRC: 22>] not supported",
     "output_type": "error",
     "traceback": [
      "\u001b[31m---------------------------------------------------------------------------\u001b[39m",
      "\u001b[31mNotImplementedError\u001b[39m                       Traceback (most recent call last)",
      "\u001b[36mCell\u001b[39m\u001b[36m \u001b[39m\u001b[32mIn[3]\u001b[39m\u001b[32m, line 3\u001b[39m\n\u001b[32m      1\u001b[39m \u001b[38;5;66;03m# Load model and build MJX system\u001b[39;00m\n\u001b[32m      2\u001b[39m m = mujoco.MjModel.from_xml_path(XML_PATH)\n\u001b[32m----> \u001b[39m\u001b[32m3\u001b[39m sys = \u001b[43mmjx\u001b[49m\u001b[43m.\u001b[49m\u001b[43mput_model\u001b[49m\u001b[43m(\u001b[49m\u001b[43mm\u001b[49m\u001b[43m)\u001b[49m\n\u001b[32m      5\u001b[39m \u001b[38;5;66;03m# State sizes\u001b[39;00m\n\u001b[32m      6\u001b[39m q_size = m.nq\n",
      "\u001b[36mFile \u001b[39m\u001b[32md:\\son_personal\\personal_dev\\mujoco-mjx-lab\\.venv\\Lib\\site-packages\\mujoco\\mjx\\_src\\io.py:527\u001b[39m, in \u001b[36mput_model\u001b[39m\u001b[34m(m, device, impl, _full_compat)\u001b[39m\n\u001b[32m    525\u001b[39m impl, device = _resolve_impl_and_device(impl, device)\n\u001b[32m    526\u001b[39m \u001b[38;5;28;01mif\u001b[39;00m impl == types.Impl.JAX:\n\u001b[32m--> \u001b[39m\u001b[32m527\u001b[39m   \u001b[38;5;28;01mreturn\u001b[39;00m \u001b[43m_put_model_jax\u001b[49m\u001b[43m(\u001b[49m\u001b[43mm\u001b[49m\u001b[43m,\u001b[49m\u001b[43m \u001b[49m\u001b[43mdevice\u001b[49m\u001b[43m)\u001b[49m\n\u001b[32m    528\u001b[39m \u001b[38;5;28;01melif\u001b[39;00m impl == types.Impl.C:\n\u001b[32m    529\u001b[39m   \u001b[38;5;28;01mreturn\u001b[39;00m _put_model_c(m, device)\n",
      "\u001b[36mFile \u001b[39m\u001b[32md:\\son_personal\\personal_dev\\mujoco-mjx-lab\\.venv\\Lib\\site-packages\\mujoco\\mjx\\_src\\io.py:368\u001b[39m, in \u001b[36m_put_model_jax\u001b[39m\u001b[34m(m, device)\u001b[39m\n\u001b[32m    366\u001b[39m   missing = \u001b[38;5;28mset\u001b[39m(enum_field) - \u001b[38;5;28mset\u001b[39m(enum_type)\n\u001b[32m    367\u001b[39m   \u001b[38;5;28;01mif\u001b[39;00m missing:\n\u001b[32m--> \u001b[39m\u001b[32m368\u001b[39m     \u001b[38;5;28;01mraise\u001b[39;00m \u001b[38;5;167;01mNotImplementedError\u001b[39;00m(\n\u001b[32m    369\u001b[39m         \u001b[33mf\u001b[39m\u001b[33m'\u001b[39m\u001b[38;5;132;01m{\u001b[39;00m[mj_type(m)\u001b[38;5;250m \u001b[39m\u001b[38;5;28;01mfor\u001b[39;00m\u001b[38;5;250m \u001b[39mm\u001b[38;5;250m \u001b[39m\u001b[38;5;129;01min\u001b[39;00m\u001b[38;5;250m \u001b[39mmissing]\u001b[38;5;132;01m}\u001b[39;00m\u001b[33m not supported\u001b[39m\u001b[33m'\u001b[39m\n\u001b[32m    370\u001b[39m     )\n\u001b[32m    372\u001b[39m mj_field_names = {f.name \u001b[38;5;28;01mfor\u001b[39;00m f \u001b[38;5;129;01min\u001b[39;00m types.Model.fields() \u001b[38;5;28;01mif\u001b[39;00m f.name != \u001b[33m'\u001b[39m\u001b[33m_impl\u001b[39m\u001b[33m'\u001b[39m}\n\u001b[32m    373\u001b[39m fields = {f: \u001b[38;5;28mgetattr\u001b[39m(m, f) \u001b[38;5;28;01mfor\u001b[39;00m f \u001b[38;5;129;01min\u001b[39;00m mj_field_names}\n",
      "\u001b[31mNotImplementedError\u001b[39m: [<mjtSensor.mjSENS_JOINTLIMITFRC: 22>] not supported"
     ]
    }
   ],
   "source": [
    "# Load model and build MJX system\n",
    "m = mujoco.MjModel.from_xml_path(XML_PATH)\n",
    "sys = mjx.put_model(m)\n",
    "\n",
    "# State sizes\n",
    "q_size = m.nq\n",
    "qd_size = m.nv\n",
    "act_size = m.nu\n",
    "\n",
    "# Initial state from keyframe or default\n",
    "q0 = np.copy(m.qpos0)\n",
    "qd0 = np.zeros(qd_size)\n",
    "\n",
    "@jit\n",
    "def pipeline_init(q, qd):\n",
    "    data = mjx.make_data(sys)\n",
    "    data = data.replace(qpos=q, qvel=qd)\n",
    "    data = mjx.forward(sys, data)\n",
    "    return data\n",
    "\n",
    "@jit\n",
    "def pipeline_step(data, ctrl):\n",
    "    data = data.replace(ctrl=ctrl)\n",
    "    data = mjx.step(sys, data)\n",
    "    return data\n"
   ]
  },
  {
   "cell_type": "code",
   "execution_count": null,
   "id": "fde67da2",
   "metadata": {},
   "outputs": [],
   "source": [
    "# Minimal MLP policy (stateless)\n",
    "\n",
    "def mlp_init(rng, in_dim, hidden, out_dim):\n",
    "    k1, k2, k3 = random.split(rng, 3)\n",
    "    w1 = random.normal(k1, (in_dim, hidden)) * (1.0 / jnp.sqrt(in_dim))\n",
    "    b1 = jnp.zeros((hidden,))\n",
    "    w2 = random.normal(k2, (hidden, hidden)) * (1.0 / jnp.sqrt(hidden))\n",
    "    b2 = jnp.zeros((hidden,))\n",
    "    w3 = random.normal(k3, (hidden, out_dim)) * (1.0 / jnp.sqrt(hidden))\n",
    "    b3 = jnp.zeros((out_dim,))\n",
    "    return (w1, b1, w2, b2, w3, b3)\n",
    "\n",
    "@jit\n",
    "def mlp_apply(params, x):\n",
    "    w1, b1, w2, b2, w3, b3 = params\n",
    "    x = jnp.tanh(x @ w1 + b1)\n",
    "    x = jnp.tanh(x @ w2 + b2)\n",
    "    x = jnp.tanh(x @ w3 + b3)\n",
    "    return x\n",
    "\n",
    "obs_dim = q_size + qd_size\n",
    "act_dim = act_size\n",
    "rng = random.PRNGKey(0)\n",
    "params = mlp_init(rng, obs_dim, 128, act_dim)\n"
   ]
  },
  {
   "cell_type": "code",
   "execution_count": null,
   "id": "aac9ccef",
   "metadata": {},
   "outputs": [],
   "source": [
    "# Rollout and loss (FoPG)\n",
    "\n",
    "@jit\n",
    "def get_obs(d):\n",
    "    return jnp.concatenate([d.qpos, d.qvel], axis=0)\n",
    "\n",
    "@jit\n",
    "def reward_fn(d):\n",
    "    # Simple upright and velocity penalties (dense, differentiable)\n",
    "    height = d.qpos[2]\n",
    "    up_reward = jnp.exp(-jnp.square(1.4 - height))\n",
    "    ang_vel_pen = jnp.sum(jnp.square(d.qvel[:3]))\n",
    "    joint_vel_pen = jnp.sum(jnp.square(d.qvel[3:]))\n",
    "    return up_reward - 1e-3 * ang_vel_pen - 1e-4 * joint_vel_pen\n",
    "\n",
    "@jit\n",
    "def rollout_return(params, key, horizon=256):\n",
    "    d = pipeline_init(q0, qd0)\n",
    "    ret = 0.0\n",
    "    gamma = 0.99\n",
    "    disc = 1.0\n",
    "    for t in range(horizon):\n",
    "        obs = get_obs(d)\n",
    "        act = mlp_apply(params, obs)\n",
    "        d = pipeline_step(d, act)\n",
    "        r = reward_fn(d)\n",
    "        ret = ret + disc * r\n",
    "        disc = disc * gamma\n",
    "    return ret\n",
    "\n",
    "loss = jit(lambda p, k: -rollout_return(p, k))\n"
   ]
  },
  {
   "cell_type": "code",
   "execution_count": null,
   "id": "ce22dd3f",
   "metadata": {},
   "outputs": [],
   "source": [
    "# SGD training (very short demo)\n",
    "\n",
    "@jit\n",
    "def sgd_update(params, grads, lr):\n",
    "    w1, b1, w2, b2, w3, b3 = params\n",
    "    g1, gb1, g2, gb2, g3, gb3 = grads\n",
    "    return (\n",
    "        w1 - lr * g1,\n",
    "        b1 - lr * gb1,\n",
    "        w2 - lr * g2,\n",
    "        b2 - lr * gb2,\n",
    "        w3 - lr * g3,\n",
    "        b3 - lr * gb3,\n",
    "    )\n",
    "\n",
    "key = random.PRNGKey(42)\n",
    "lr = 3e-4\n",
    "num_updates = 200\n",
    "\n",
    "val_and_grad = jit(value_and_grad(lambda p, k: loss(p, k)))\n",
    "\n",
    "for i in range(num_updates):\n",
    "    key, sub = random.split(key)\n",
    "    v, g = val_and_grad(params, sub)\n",
    "    params = sgd_update(params, g, lr)\n",
    "    if (i+1) % 20 == 0:\n",
    "        print(i+1, \"loss:\", float(v))\n"
   ]
  }
 ],
 "metadata": {
  "kernelspec": {
   "display_name": ".venv",
   "language": "python",
   "name": "python3"
  },
  "language_info": {
   "codemirror_mode": {
    "name": "ipython",
    "version": 3
   },
   "file_extension": ".py",
   "mimetype": "text/x-python",
   "name": "python",
   "nbconvert_exporter": "python",
   "pygments_lexer": "ipython3",
   "version": "3.11.9"
  }
 },
 "nbformat": 4,
 "nbformat_minor": 5
}
